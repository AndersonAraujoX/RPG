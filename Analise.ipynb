{
  "nbformat": 4,
  "nbformat_minor": 0,
  "metadata": {
    "colab": {
      "provenance": [],
      "authorship_tag": "ABX9TyP7Zn7m/ctw6312SWhbalWt",
      "include_colab_link": true
    },
    "kernelspec": {
      "name": "python3",
      "display_name": "Python 3"
    },
    "language_info": {
      "name": "python"
    }
  },
  "cells": [
    {
      "cell_type": "markdown",
      "metadata": {
        "id": "view-in-github",
        "colab_type": "text"
      },
      "source": [
        "<a href=\"https://colab.research.google.com/github/AndersonAraujoX/RPG/blob/main/Analise.ipynb\" target=\"_parent\"><img src=\"https://colab.research.google.com/assets/colab-badge.svg\" alt=\"Open In Colab\"/></a>"
      ]
    },
    {
      "cell_type": "code",
      "execution_count": null,
      "metadata": {
        "id": "iRAaee-hUQFr"
      },
      "outputs": [],
      "source": [
        "import pandas as pd\n",
        "\n",
        "# Importar os dados\n",
        "df = pd.read_csv(\"dados.csv\")\n",
        "\n",
        "# Analisar os dados\n",
        "print(df.head())\n",
        "\n",
        "# Salvar os resultados\n",
        "df.to_csv(\"resultados.csv\")\n"
      ]
    }
  ]
}